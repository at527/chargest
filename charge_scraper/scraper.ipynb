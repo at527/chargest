{
 "cells": [
  {
   "cell_type": "code",
   "execution_count": 2,
   "metadata": {},
   "outputs": [
    {
     "name": "stderr",
     "output_type": "stream",
     "text": [
      "/tmp/ipykernel_14901/2595686090.py:1: DeprecationWarning: \n",
      "Pyarrow will become a required dependency of pandas in the next major release of pandas (pandas 3.0),\n",
      "(to allow more performant data types, such as the Arrow string type, and better interoperability with other libraries)\n",
      "but was not found to be installed on your system.\n",
      "If this would cause problems for you,\n",
      "please provide us feedback at https://github.com/pandas-dev/pandas/issues/54466\n",
      "        \n",
      "  import pandas as pd\n"
     ]
    }
   ],
   "source": [
    "import pandas as pd\n",
    "import bs4\n",
    "import requests\n",
    "import json\n"
   ]
  },
  {
   "cell_type": "code",
   "execution_count": 41,
   "metadata": {},
   "outputs": [],
   "source": [
    "# single car example\n",
    "\n",
    "url = 'https://evkx.net/models/tesla/model_y/model_y_long_range/chargingcurve/'\n",
    "\n",
    "tables = pd.read_html(url)\n",
    "\n",
    "CHARGE_TIMES_INDEX = 1\n",
    "\n",
    "charge_time_table = tables[CHARGE_TIMES_INDEX]"
   ]
  },
  {
   "cell_type": "code",
   "execution_count": 42,
   "metadata": {},
   "outputs": [],
   "source": [
    "model_y_charge_str_times = charge_time_table['Time'].tolist()\n",
    "\n"
   ]
  },
  {
   "cell_type": "code",
   "execution_count": 44,
   "metadata": {},
   "outputs": [
    {
     "data": {
      "text/plain": [
       "61"
      ]
     },
     "execution_count": 44,
     "metadata": {},
     "output_type": "execute_result"
    }
   ],
   "source": [
    "def hms_to_seconds(hms):\n",
    "\n",
    "    hours = 0\n",
    "\n",
    "    split_hours = hms.split('h')\n",
    "    hours_index = 0\n",
    "    m_s_index = 1\n",
    "\n",
    "\n",
    "    # handle case where theres no hours\n",
    "    if 'h' in hms:\n",
    "        hours = int(split_hours[hours_index])\n",
    "    else:\n",
    "        m_s_index = 0\n",
    "    \n",
    "    split_minutes = split_hours[m_s_index].split('m')\n",
    "    minutes_index = 0\n",
    "    seconds_index = 1\n",
    "\n",
    "    minutes = int(split_minutes[minutes_index])\n",
    "\n",
    "    split_seconds = split_minutes[seconds_index].split('s')\n",
    "    seconds_index = 0\n",
    "\n",
    "    seconds = int(split_seconds[seconds_index])\n",
    "\n",
    "    total_seconds = 60 * 60 * hours + 60 * minutes + seconds\n",
    "\n",
    "    return total_seconds\n",
    "\n",
    "hms_to_seconds('1 m 1 s')"
   ]
  },
  {
   "cell_type": "code",
   "execution_count": 46,
   "metadata": {},
   "outputs": [
    {
     "data": {
      "text/plain": [
       "[0,\n",
       " 70,\n",
       " 129,\n",
       " 181,\n",
       " 226,\n",
       " 267,\n",
       " 304,\n",
       " 337,\n",
       " 368,\n",
       " 397,\n",
       " 424,\n",
       " 449,\n",
       " 474,\n",
       " 499,\n",
       " 524,\n",
       " 548,\n",
       " 571,\n",
       " 595,\n",
       " 618,\n",
       " 641,\n",
       " 663,\n",
       " 685,\n",
       " 707,\n",
       " 729,\n",
       " 750,\n",
       " 771,\n",
       " 792,\n",
       " 813,\n",
       " 834,\n",
       " 855,\n",
       " 876,\n",
       " 898,\n",
       " 919,\n",
       " 940,\n",
       " 962,\n",
       " 984,\n",
       " 1006,\n",
       " 1028,\n",
       " 1052,\n",
       " 1075,\n",
       " 1100,\n",
       " 1124,\n",
       " 1150,\n",
       " 1176,\n",
       " 1203,\n",
       " 1230,\n",
       " 1257,\n",
       " 1285,\n",
       " 1313,\n",
       " 1341,\n",
       " 1370,\n",
       " 1399,\n",
       " 1428,\n",
       " 1457,\n",
       " 1486,\n",
       " 1515,\n",
       " 1544,\n",
       " 1573,\n",
       " 1602,\n",
       " 1631,\n",
       " 1660,\n",
       " 1690,\n",
       " 1719,\n",
       " 1748,\n",
       " 1778,\n",
       " 1808,\n",
       " 1838,\n",
       " 1869,\n",
       " 1901,\n",
       " 1933,\n",
       " 1965,\n",
       " 1998,\n",
       " 2031,\n",
       " 2065,\n",
       " 2100,\n",
       " 2135,\n",
       " 2171,\n",
       " 2207,\n",
       " 2244,\n",
       " 2282,\n",
       " 2320,\n",
       " 2374,\n",
       " 2464,\n",
       " 2559,\n",
       " 2660,\n",
       " 2768,\n",
       " 2883,\n",
       " 3007,\n",
       " 3140,\n",
       " 3285,\n",
       " 3444,\n",
       " 3620,\n",
       " 3816,\n",
       " 4039,\n",
       " 4296,\n",
       " 4599,\n",
       " 4970,\n",
       " 5447,\n",
       " 6115,\n",
       " 7227,\n",
       " 10566]"
      ]
     },
     "execution_count": 46,
     "metadata": {},
     "output_type": "execute_result"
    }
   ],
   "source": [
    "def get_charge_times(url):\n",
    "    tables = pd.read_html(url)\n",
    "    \n",
    "    CHARGE_TIMES_INDEX = 1\n",
    "    charge_time_table = tables[CHARGE_TIMES_INDEX]\n",
    "\n",
    "    hms_string_times = charge_time_table['Time'].tolist()\n",
    "\n",
    "    return [hms_to_seconds(i) for i in hms_string_times]\n",
    "\n",
    "get_charge_times('https://evkx.net/models/acura/zdx/zdx_type_s/chargingcurve/')"
   ]
  },
  {
   "cell_type": "code",
   "execution_count": 9,
   "metadata": {},
   "outputs": [],
   "source": [
    "model_y_charge_seconds = [hms_to_seconds(i) for i in model_y_charge_str_times]"
   ]
  },
  {
   "cell_type": "code",
   "execution_count": 52,
   "metadata": {},
   "outputs": [
    {
     "name": "stdout",
     "output_type": "stream",
     "text": [
      "<a href=\"acura/\"><img alt=\"Acura\" class=\"img-fluid mb-2\" src=\"https://media.evkx.net/multimedia/models/acura/brandevs_st.jpg\"/></a>\n"
     ]
    },
    {
     "ename": "IndexError",
     "evalue": "list index out of range",
     "output_type": "error",
     "traceback": [
      "\u001b[0;31m---------------------------------------------------------------------------\u001b[0m",
      "\u001b[0;31mIndexError\u001b[0m                                Traceback (most recent call last)",
      "Cell \u001b[0;32mIn[52], line 13\u001b[0m\n\u001b[1;32m     10\u001b[0m \u001b[38;5;28;01mfor\u001b[39;00m card \u001b[38;5;129;01min\u001b[39;00m maker_cards[\u001b[38;5;241m0\u001b[39m]:\n\u001b[1;32m     11\u001b[0m     \u001b[38;5;66;03m# extract the model name\u001b[39;00m\n\u001b[1;32m     12\u001b[0m     \u001b[38;5;28mprint\u001b[39m(card)\n\u001b[0;32m---> 13\u001b[0m     maker_name \u001b[38;5;241m=\u001b[39m \u001b[43mcard\u001b[49m\u001b[38;5;241;43m.\u001b[39;49m\u001b[43mselect\u001b[49m\u001b[43m(\u001b[49m\u001b[38;5;124;43m'\u001b[39;49m\u001b[38;5;124;43mh2\u001b[39;49m\u001b[38;5;124;43m'\u001b[39;49m\u001b[43m)\u001b[49m\u001b[43m[\u001b[49m\u001b[38;5;241;43m0\u001b[39;49m\u001b[43m]\u001b[49m\u001b[38;5;241m.\u001b[39mget_text()\n\u001b[1;32m     14\u001b[0m     \u001b[38;5;66;03m# extract the link\u001b[39;00m\n\u001b[1;32m     15\u001b[0m     link \u001b[38;5;241m=\u001b[39m card\u001b[38;5;241m.\u001b[39mselect(\u001b[38;5;124m'\u001b[39m\u001b[38;5;124ma\u001b[39m\u001b[38;5;124m'\u001b[39m)[\u001b[38;5;241m0\u001b[39m]\u001b[38;5;241m.\u001b[39mget(\u001b[38;5;124m'\u001b[39m\u001b[38;5;124mhref\u001b[39m\u001b[38;5;124m'\u001b[39m)\n",
      "\u001b[0;31mIndexError\u001b[0m: list index out of range"
     ]
    }
   ],
   "source": [
    "makers_url = 'https://evkx.net/models/'\n",
    "res = requests.get(makers_url)\n",
    "res.raise_for_status()\n",
    "makes_soup = bs4.BeautifulSoup(res.text, 'html.parser')\n",
    "\n",
    "# get the car maker cards\n",
    "maker_cards = makes_soup.select('div.container.p-3.mb-4.bg-body-tertiary.rounded.border')\n",
    "\n",
    "cars = {}\n",
    "for card in maker_cards[0]:\n",
    "    # extract the model name\n",
    "    print(card)\n",
    "    maker_name = card.select('h2')[0].get_text()\n",
    "    # extract the link\n",
    "    link = card.select('a')[0].get('href')\n",
    "\n",
    "    # follow link to get the models\n",
    "    models_url = makers_url + link\n",
    "    models_resp = requests.get(models_url)\n",
    "    models_resp.raise_for_status()\n",
    "    models_soup = bs4.BeautifulSoup(models_resp.text, 'html.parser')\n",
    "\n",
    "    model_cards = models_soup.select('div.container.p-3.mb-4.bg-body-tertiary.rounded.border')\n",
    "\n",
    "    models = {}\n",
    "    for model in model_cards:\n",
    "        model_name = model.select('h3')[0].get_text()\n",
    "        link = model.select('a')[0].get('href')\n",
    "        \n",
    "        sub_model_url = models_url + link\n",
    "        sub_models_resp = requests.get(sub_model_url)\n",
    "        sub_models_resp.raise_for_status()\n",
    "        sub_models_soup = bs4.BeautifulSoup(sub_models_resp.text, 'html.parser')\n",
    "\n",
    "        sub_model_cards = sub_models_soup.select('div.container.p-3.mb-4.bg-body-tertiary.rounded.border')\n",
    "        sub_models = {}\n",
    "\n",
    "        for sub_model in sub_model_cards:\n",
    "            sub_model_name = sub_model.select('h3')[0].get_text()\n",
    "            charge_curve_selector = 'li:nth-child(3) > a:nth-child(1)'\n",
    "            link = sub_model.select(charge_curve_selector)[0].get('href')\n",
    "            charge_curve_url = sub_model_url + link\n",
    "\n",
    "            charge_times = get_charge_times(charge_curve_url)\n",
    "            sub_models[sub_model_name] = charge_times\n",
    "\n",
    "        models[model_name] = sub_models\n",
    "    cars[maker_name] = models\n",
    "    \n",
    "\n",
    "print(cars)"
   ]
  },
  {
   "cell_type": "code",
   "execution_count": 32,
   "metadata": {},
   "outputs": [
    {
     "name": "stdout",
     "output_type": "stream",
     "text": [
      "[{'name': 'Acura', 'link': 'acura/', 'models': [{'name': 'Acura ZDX', 'link': 'zdx'}]}, {'name': 'Aion', 'link': 'aion/', 'models': [{'name': 'Aion Hyper GT', 'link': 'hyper_gt'}]}, {'name': 'Audi', 'link': 'audi/'}, {'name': 'BMW', 'link': 'bmw/'}, {'name': 'BYD', 'link': 'byd/'}, {'name': 'Cadillac', 'link': 'cadillac/'}, {'name': 'Chevrolet', 'link': 'chevrolet/'}, {'name': 'Citroën', 'link': 'citroën/'}, {'name': 'CUPRA', 'link': 'cupra/'}, {'name': 'DS', 'link': 'ds/'}, {'name': 'Fiat', 'link': 'fiat/'}, {'name': 'Fisker', 'link': 'fisker/'}, {'name': 'Ford', 'link': 'ford/'}, {'name': 'Genesis', 'link': 'genesis/'}, {'name': 'GMC', 'link': 'gmc/'}, {'name': 'HiPhi', 'link': 'hiphi/'}, {'name': 'Honda', 'link': 'honda/'}, {'name': 'Hongqi', 'link': 'hongqi/'}, {'name': 'Hyundai', 'link': 'hyundai/'}, {'name': 'Jaguar', 'link': 'jaguar/'}, {'name': 'Jeep', 'link': 'jeep/'}, {'name': 'Kia', 'link': 'kia/'}, {'name': 'Lexus', 'link': 'lexus/'}, {'name': 'Lotus', 'link': 'lotus/'}, {'name': 'Lucid', 'link': 'lucid/'}, {'name': 'Mercedes', 'link': 'mercedes/'}, {'name': 'MG', 'link': 'mg/'}, {'name': 'Neta', 'link': 'neta/'}, {'name': 'Nio', 'link': 'nio/'}, {'name': 'Nissan', 'link': 'nissan/'}, {'name': 'Opel', 'link': 'opel/'}, {'name': 'Peugot', 'link': 'peugot/'}, {'name': 'Polestar', 'link': 'polestar/'}, {'name': 'Porsche', 'link': 'porsche/'}, {'name': 'Renault', 'link': 'renault/'}, {'name': 'Rimac', 'link': 'rimac/'}, {'name': 'Rivian', 'link': 'rivian/'}, {'name': 'Rolls-Royce', 'link': 'rolls-royce/'}, {'name': 'Seres', 'link': 'seres/'}, {'name': 'Skoda', 'link': 'skoda/'}, {'name': 'Smart', 'link': 'smart/'}, {'name': 'Subaru', 'link': 'subaru/'}, {'name': 'Tesla', 'link': 'tesla/'}, {'name': 'Toyota', 'link': 'toyota/'}, {'name': 'Volkswagen', 'link': 'volkswagen/'}, {'name': 'Volvo', 'link': 'volvo/'}, {'name': 'VOYAH', 'link': 'voyah/'}, {'name': 'XPENG', 'link': 'xpeng/'}, {'name': 'YangWang', 'link': 'yangwang/'}, {'name': 'Zeekr', 'link': 'zeekr/'}]\n"
     ]
    }
   ],
   "source": []
  },
  {
   "cell_type": "code",
   "execution_count": null,
   "metadata": {},
   "outputs": [],
   "source": []
  }
 ],
 "metadata": {
  "kernelspec": {
   "display_name": "Python 3",
   "language": "python",
   "name": "python3"
  },
  "language_info": {
   "codemirror_mode": {
    "name": "ipython",
    "version": 3
   },
   "file_extension": ".py",
   "mimetype": "text/x-python",
   "name": "python",
   "nbconvert_exporter": "python",
   "pygments_lexer": "ipython3",
   "version": "3.10.12"
  }
 },
 "nbformat": 4,
 "nbformat_minor": 2
}
