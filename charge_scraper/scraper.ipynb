{
 "cells": [
  {
   "cell_type": "code",
   "execution_count": 1,
   "metadata": {},
   "outputs": [
    {
     "name": "stderr",
     "output_type": "stream",
     "text": [
      "/tmp/ipykernel_5904/4080736814.py:1: DeprecationWarning: \n",
      "Pyarrow will become a required dependency of pandas in the next major release of pandas (pandas 3.0),\n",
      "(to allow more performant data types, such as the Arrow string type, and better interoperability with other libraries)\n",
      "but was not found to be installed on your system.\n",
      "If this would cause problems for you,\n",
      "please provide us feedback at https://github.com/pandas-dev/pandas/issues/54466\n",
      "        \n",
      "  import pandas as pd\n"
     ]
    }
   ],
   "source": [
    "import pandas as pd"
   ]
  },
  {
   "cell_type": "code",
   "execution_count": 3,
   "metadata": {},
   "outputs": [],
   "source": [
    "# single car example\n",
    "\n",
    "url = 'https://evkx.net/models/tesla/model_y/model_y_long_range/chargingcurve/'\n",
    "\n",
    "tables = pd.read_html(url)\n",
    "\n",
    "charge_times = 1\n",
    "\n",
    "charge_time_table = tables[charge_times]\n",
    "\n"
   ]
  },
  {
   "cell_type": "code",
   "execution_count": 14,
   "metadata": {},
   "outputs": [],
   "source": [
    "model_y_charge_str_times = charge_time_table['Time'].tolist()\n",
    "\n"
   ]
  },
  {
   "cell_type": "code",
   "execution_count": 19,
   "metadata": {},
   "outputs": [
    {
     "data": {
      "text/plain": [
       "61"
      ]
     },
     "execution_count": 19,
     "metadata": {},
     "output_type": "execute_result"
    }
   ],
   "source": [
    "def hms_to_seconds(hms):\n",
    "\n",
    "    hours = 0\n",
    "\n",
    "    split_hours = hms.split('h')\n",
    "    hours_index = 0\n",
    "    m_s_index = 1\n",
    "\n",
    "\n",
    "    # handle case where theres no hours\n",
    "    if 'h' in hms:\n",
    "        hours = int(split_hours[hours_index])\n",
    "    else:\n",
    "        m_s_index = 0\n",
    "    \n",
    "    split_minutes = split_hours[m_s_index].split('m')\n",
    "    minutes_index = 0\n",
    "    seconds_index = 1\n",
    "\n",
    "    minutes = int(split_minutes[minutes_index])\n",
    "\n",
    "    split_seconds = split_minutes[seconds_index].split('s')\n",
    "    seconds_index = 0\n",
    "\n",
    "    seconds = int(split_seconds[seconds_index])\n",
    "\n",
    "    total_seconds = 60 * 60 * hours + 60 * minutes + seconds\n",
    "\n",
    "    return total_seconds\n",
    "\n",
    "hms_to_seconds('1 m 1 s')"
   ]
  },
  {
   "cell_type": "code",
   "execution_count": 20,
   "metadata": {},
   "outputs": [],
   "source": [
    "model_y_charge_seconds = [hms_to_seconds(i) for i in model_y_charge_str_times]"
   ]
  },
  {
   "cell_type": "code",
   "execution_count": 21,
   "metadata": {},
   "outputs": [
    {
     "data": {
      "text/plain": [
       "[0,\n",
       " 29,\n",
       " 57,\n",
       " 85,\n",
       " 113,\n",
       " 141,\n",
       " 158,\n",
       " 171,\n",
       " 184,\n",
       " 196,\n",
       " 208,\n",
       " 220,\n",
       " 233,\n",
       " 246,\n",
       " 260,\n",
       " 274,\n",
       " 289,\n",
       " 305,\n",
       " 320,\n",
       " 336,\n",
       " 352,\n",
       " 369,\n",
       " 386,\n",
       " 403,\n",
       " 421,\n",
       " 438,\n",
       " 456,\n",
       " 475,\n",
       " 493,\n",
       " 512,\n",
       " 532,\n",
       " 551,\n",
       " 571,\n",
       " 592,\n",
       " 612,\n",
       " 634,\n",
       " 655,\n",
       " 677,\n",
       " 699,\n",
       " 722,\n",
       " 746,\n",
       " 769,\n",
       " 793,\n",
       " 818,\n",
       " 843,\n",
       " 868,\n",
       " 894,\n",
       " 921,\n",
       " 948,\n",
       " 975,\n",
       " 1003,\n",
       " 1032,\n",
       " 1061,\n",
       " 1091,\n",
       " 1122,\n",
       " 1153,\n",
       " 1185,\n",
       " 1218,\n",
       " 1251,\n",
       " 1285,\n",
       " 1321,\n",
       " 1357,\n",
       " 1394,\n",
       " 1432,\n",
       " 1471,\n",
       " 1510,\n",
       " 1550,\n",
       " 1590,\n",
       " 1630,\n",
       " 1672,\n",
       " 1714,\n",
       " 1756,\n",
       " 1799,\n",
       " 1843,\n",
       " 1888,\n",
       " 1934,\n",
       " 1980,\n",
       " 2028,\n",
       " 2077,\n",
       " 2126,\n",
       " 2175,\n",
       " 2226,\n",
       " 2278,\n",
       " 2333,\n",
       " 2391,\n",
       " 2453,\n",
       " 2517,\n",
       " 2585,\n",
       " 2655,\n",
       " 2727,\n",
       " 2802,\n",
       " 2880,\n",
       " 2961,\n",
       " 3045,\n",
       " 3135,\n",
       " 3231,\n",
       " 3336,\n",
       " 3451,\n",
       " 3579,\n",
       " 3729,\n",
       " 3922]"
      ]
     },
     "execution_count": 21,
     "metadata": {},
     "output_type": "execute_result"
    }
   ],
   "source": [
    "model_y_charge_seconds"
   ]
  },
  {
   "cell_type": "code",
   "execution_count": null,
   "metadata": {},
   "outputs": [],
   "source": []
  }
 ],
 "metadata": {
  "kernelspec": {
   "display_name": "Python 3",
   "language": "python",
   "name": "python3"
  },
  "language_info": {
   "codemirror_mode": {
    "name": "ipython",
    "version": 3
   },
   "file_extension": ".py",
   "mimetype": "text/x-python",
   "name": "python",
   "nbconvert_exporter": "python",
   "pygments_lexer": "ipython3",
   "version": "3.12.1"
  }
 },
 "nbformat": 4,
 "nbformat_minor": 2
}
